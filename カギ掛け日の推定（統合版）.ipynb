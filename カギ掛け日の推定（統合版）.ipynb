{
  "nbformat": 4,
  "nbformat_minor": 0,
  "metadata": {
    "colab": {
      "provenance": [],
      "authorship_tag": "ABX9TyOGk2TB2r9Z24DDtZeuwq23",
      "include_colab_link": true
    },
    "kernelspec": {
      "name": "python3",
      "display_name": "Python 3"
    },
    "language_info": {
      "name": "python"
    }
  },
  "cells": [
    {
      "cell_type": "markdown",
      "metadata": {
        "id": "view-in-github",
        "colab_type": "text"
      },
      "source": [
        "<a href=\"https://colab.research.google.com/github/yasu-kawabe/data_proc/blob/main/%E3%82%AB%E3%82%AE%E6%8E%9B%E3%81%91%E6%97%A5%E3%81%AE%E6%8E%A8%E5%AE%9A%EF%BC%88%E7%B5%B1%E5%90%88%E7%89%88%EF%BC%89.ipynb\" target=\"_parent\"><img src=\"https://colab.research.google.com/assets/colab-badge.svg\" alt=\"Open In Colab\"/></a>"
      ]
    },
    {
      "cell_type": "code",
      "source": [
        "#Matplotlibでの日本語表示を可能にする\n",
        "!pip install japanize-matplotlib"
      ],
      "metadata": {
        "colab": {
          "base_uri": "https://localhost:8080/"
        },
        "id": "wKg5R38sL3hw",
        "outputId": "38c273e1-b72b-4875-c64a-dac2890e0d32"
      },
      "execution_count": null,
      "outputs": [
        {
          "output_type": "stream",
          "name": "stdout",
          "text": [
            "Looking in indexes: https://pypi.org/simple, https://us-python.pkg.dev/colab-wheels/public/simple/\n",
            "Collecting japanize-matplotlib\n",
            "  Downloading japanize-matplotlib-1.1.3.tar.gz (4.1 MB)\n",
            "\u001b[2K     \u001b[90m━━━━━━━━━━━━━━━━━━━━━━━━━━━━━━━━━━━━━━━━\u001b[0m \u001b[32m4.1/4.1 MB\u001b[0m \u001b[31m36.3 MB/s\u001b[0m eta \u001b[36m0:00:00\u001b[0m\n",
            "\u001b[?25h  Preparing metadata (setup.py) ... \u001b[?25l\u001b[?25hdone\n",
            "Requirement already satisfied: matplotlib in /usr/local/lib/python3.10/dist-packages (from japanize-matplotlib) (3.7.1)\n",
            "Requirement already satisfied: contourpy>=1.0.1 in /usr/local/lib/python3.10/dist-packages (from matplotlib->japanize-matplotlib) (1.0.7)\n",
            "Requirement already satisfied: kiwisolver>=1.0.1 in /usr/local/lib/python3.10/dist-packages (from matplotlib->japanize-matplotlib) (1.4.4)\n",
            "Requirement already satisfied: cycler>=0.10 in /usr/local/lib/python3.10/dist-packages (from matplotlib->japanize-matplotlib) (0.11.0)\n",
            "Requirement already satisfied: pillow>=6.2.0 in /usr/local/lib/python3.10/dist-packages (from matplotlib->japanize-matplotlib) (8.4.0)\n",
            "Requirement already satisfied: packaging>=20.0 in /usr/local/lib/python3.10/dist-packages (from matplotlib->japanize-matplotlib) (23.1)\n",
            "Requirement already satisfied: python-dateutil>=2.7 in /usr/local/lib/python3.10/dist-packages (from matplotlib->japanize-matplotlib) (2.8.2)\n",
            "Requirement already satisfied: pyparsing>=2.3.1 in /usr/local/lib/python3.10/dist-packages (from matplotlib->japanize-matplotlib) (3.0.9)\n",
            "Requirement already satisfied: numpy>=1.20 in /usr/local/lib/python3.10/dist-packages (from matplotlib->japanize-matplotlib) (1.22.4)\n",
            "Requirement already satisfied: fonttools>=4.22.0 in /usr/local/lib/python3.10/dist-packages (from matplotlib->japanize-matplotlib) (4.39.3)\n",
            "Requirement already satisfied: six>=1.5 in /usr/local/lib/python3.10/dist-packages (from python-dateutil>=2.7->matplotlib->japanize-matplotlib) (1.16.0)\n",
            "Building wheels for collected packages: japanize-matplotlib\n",
            "  Building wheel for japanize-matplotlib (setup.py) ... \u001b[?25l\u001b[?25hdone\n",
            "  Created wheel for japanize-matplotlib: filename=japanize_matplotlib-1.1.3-py3-none-any.whl size=4120274 sha256=d91864131b56b17dc761b47aeeddcc53df0167db612bbf5a2e321f8747883f30\n",
            "  Stored in directory: /root/.cache/pip/wheels/61/7a/6b/df1f79be9c59862525070e157e62b08eab8ece27c1b68fbb94\n",
            "Successfully built japanize-matplotlib\n",
            "Installing collected packages: japanize-matplotlib\n",
            "Successfully installed japanize-matplotlib-1.1.3\n"
          ]
        }
      ]
    },
    {
      "cell_type": "code",
      "source": [
        "#ライブラリーの読み込み\n",
        "import numpy as np\n",
        "import pandas as pd\n",
        "import os\n",
        "import glob\n",
        "from ast import increment_lineno\n",
        "import matplotlib.pyplot as plt\n",
        "%matplotlib inline\n",
        "import japanize_matplotlib\n",
        "from scipy import stats\n",
        "\n",
        "#変数の定義\n",
        "#処理期間の最終日\n",
        "date_end = 21\n",
        "#処理に仕様する閾値\n",
        "threshold_value = 0.9\n",
        "\n",
        "#データファイルを収めるフォルダー\n",
        "folder_name = \"/content/\"\n",
        "#データを収めるファイル\n",
        "file_name = \"data\"\n",
        "\n",
        "#データファイルの読み込み\n",
        "def import_data(folder_name, file_name):\n",
        "  file_path = folder_name\n",
        "  #file_pathにfile_nameを加えた文字列を利用してデータファイルの読み込み\n",
        "  file_list = glob.glob(os.path.join(file_path, file_name + \"*\"))\n",
        "  #データファイル名順にソート\n",
        "  file_list.sort()\n",
        "\n",
        "  #出力する入力データのデータフレームを定義\n",
        "  input_data_return = pd.DataFrame()\n",
        "\n",
        "  for file_path in file_list:\n",
        "    #データファイルをinput_data_tempとして読み込む\n",
        "    input_data_temp = pd.read_csv(file_path)\n",
        "    #input_data_tempの内容をinput_data_returnに連結\n",
        "    input_data_return = pd.concat([input_data_return, input_data_temp], ignore_index = True)\n",
        "  return input_data_return\n",
        "\n",
        "#データの日数と閾値を指定し、累積の割合が上限に達する日を決定\n",
        "def cal_threshold_date(input_data, date_end, threshold_value):\n",
        "  #最終日を最終列に変換\n",
        "  column_end = date_end +1\n",
        "  #出力する処理後データセットを定義。この時、input_dataのcopyであることを明示的に指定\n",
        "  output_data_return = input_data.iloc[:, 0:column_end].copy()\n",
        "\n",
        "  #データセットの各行の合計値を計算\n",
        "  output_data_return[\"合計\"] = output_data_return.iloc[:, 1:column_end].sum(axis=1)\n",
        "  #データセットの各行で合計値に閾値をかけた値を計算\n",
        "  output_data_return[\"閾値\"] = output_data_return[\"合計\"] * threshold_value\n",
        "\n",
        "\n",
        "  #上限に達した日を記載する行「日」を定義\n",
        "  output_data_return[\"日\"] = 0\n",
        "\n",
        "  for i in range(len(output_data_return)):\n",
        "    #累積値を保存する変数を定義\n",
        "    cum_sum = 0\n",
        "\n",
        "    for j in range(1, column_end):\n",
        "      #各行において、1日分ずつデータを累積させる\n",
        "      cum_sum += output_data_return.iloc[i, j]\n",
        "      #データの累積値が「閾値」の値より大きいかを確認\n",
        "      if cum_sum > output_data_return.loc[i, \"閾値\"]:\n",
        "        #大きければその日は閾値を超えてしまっているので、その前日（j-1）を「日」に保存\n",
        "        output_data_return.loc[i, \"日\"] = j - 1\n",
        "        break\n",
        "  return output_data_return\n",
        "\n",
        "#特徴量を出力\n",
        "def cal_attributes(output_data, date_end, threshold_value):\n",
        "  print(\"-----------\\n特徴量\")\n",
        "  print(\"file name    output_data\")\n",
        "  print(\"days    \" + str(date_end))\n",
        "  print(\"percent    \" + str(threshold_value * 100) + \"%\")\n",
        "  print(output_data[\"日\"].describe())\n",
        "\n",
        "#ヒストグラムを表示\n",
        "def show_hist(output_data):\n",
        "  plt.hist(output_data[\"日\"])\n",
        "  plt.title(\"閾値に達した日の回数\", fontsize=12)\n",
        "  plt.xlabel(\"日\", fontsize=10)\n",
        "  plt.ylabel(\"回数\", fontsize=10)\n",
        "\n",
        "\n",
        "#信頼区間を計算\n",
        "def cal_ci(output_data):\n",
        "  c = 0.95 #信頼水準。ここでは 95%。\n",
        "  d = len(output_data[\"日\"])-1 #自由度 (= サンプルサイズ-1)\n",
        "  m = output_data[\"日\"].mean() #標本平均\n",
        "  s = stats.sem(output_data[\"日\"]) #標準誤差。不偏分散から計算。\n",
        "\n",
        "  print(\"-----------\\n信頼区間\")\n",
        "  print(stats.t.interval(confidence = c, df = d, loc = m, scale =s))\n",
        "\n",
        "#処理の実行\n",
        "#データを読み込み\n",
        "input_data = import_data(folder_name, file_name)\n",
        "#データの処理\n",
        "output_data = cal_threshold_date(input_data, date_end, threshold_value)\n",
        "#処理後の出力の保存\n",
        "output_data.to_csv(\"output_data.csv\")\n",
        "#特徴量計算の計算\n",
        "cal_attributes(output_data, date_end, threshold_value)\n",
        "#信頼区間を計算\n",
        "cal_ci(output_data)\n",
        "#ヒストグラムを表示\n",
        "show_hist(output_data)"
      ],
      "metadata": {
        "id": "cY8gfBMPe96J"
      },
      "execution_count": null,
      "outputs": []
    },
    {
      "cell_type": "code",
      "source": [
        "#データの表示\n",
        "output_data"
      ],
      "metadata": {
        "id": "Tf4dlWOrZD8X"
      },
      "execution_count": null,
      "outputs": []
    },
    {
      "cell_type": "code",
      "source": [
        "# output_data[\"日\"]が正規分布かを判断するためシャピロ–ウィルク検定を実行。p値が0.05より大きければ、帰無仮説（与えられたデータが正規分布に従う）が棄却されず、対数正規分布に従うことが示唆\n",
        "stat, p = stats.shapiro(output_data[\"日\"])\n",
        "\n",
        "# p値の出力\n",
        "print(\"p-value: \", p)"
      ],
      "metadata": {
        "id": "-ARNkgYlPSQN"
      },
      "execution_count": null,
      "outputs": []
    },
    {
      "cell_type": "code",
      "source": [
        "# output_data[\"日\"]が対数正規分布かを判断するため、正規確率プロットの作成\n",
        "stats.probplot(output_data[\"日\"], dist=stats.lognorm(1, loc=0, scale=1), plot=plt)\n",
        "\n",
        "plt.title(\"Normal probability plot\")\n",
        "plt.show()"
      ],
      "metadata": {
        "id": "5q8vItiuQCr2"
      },
      "execution_count": null,
      "outputs": []
    },
    {
      "cell_type": "code",
      "source": [
        "from scipy.stats import lognorm\n",
        "\n",
        "mean = 10\n",
        "std = 10\n",
        "s = np.sqrt(std)\n",
        "\n",
        "lower_percentile = 2.5\n",
        "upper_percentile = 97.5\n",
        "\n",
        "lower_bound = lognorm.ppf(lower_percentile / 100, s, loc=0, scale=mean)\n",
        "upper_bound = lognorm.ppf(upper_percentile / 100, s, loc=0, scale=mean)\n",
        "\n",
        "print(\"Lower bound: \", lower_bound)\n",
        "print(\"Upper bound: \", upper_bound)\n"
      ],
      "metadata": {
        "id": "HrroD8myQYk1"
      },
      "execution_count": null,
      "outputs": []
    }
  ]
}